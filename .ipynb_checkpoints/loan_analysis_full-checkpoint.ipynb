{
 "cells": [
  {
   "cell_type": "code",
   "execution_count": null,
   "id": "0d17c99a",
   "metadata": {},
   "outputs": [],
   "source": [
    "import pandas as pd\n",
    "import matplotlib.pyplot as plt\n",
    "import seaborn as sns\n",
    "import missingno as msno\n",
    "from sklearn.model_selection import train_test_split\n",
    "from sklearn.preprocessing import LabelEncoder\n",
    "from sklearn.ensemble import RandomForestClassifier\n",
    "from sklearn.metrics import accuracy_score"
   ]
  },
  {
   "cell_type": "code",
   "execution_count": null,
   "id": "8308a767",
   "metadata": {},
   "outputs": [],
   "source": [
    "# Load dataset\n",
    "data = pd.read_csv('loan_data.csv')\n",
    "\n",
    "# Fill missing values (fix deprecation warning)\n",
    "data.ffill(inplace=True)\n",
    "\n",
    "# Drop Loan_ID column as it’s not useful for prediction\n",
    "data = data.drop(columns=['Loan_ID'])"
   ]
  },
  {
   "cell_type": "code",
   "execution_count": null,
   "id": "6e7b4b41",
   "metadata": {},
   "outputs": [],
   "source": [
    "# Encode categorical variables\n",
    "label_cols = ['Gender', 'Married', 'Education', 'Self_Employed', 'Property_Area', 'Loan_Status']\n",
    "le = LabelEncoder()\n",
    "for col in label_cols:\n",
    "    data[col] = le.fit_transform(data[col])"
   ]
  },
  {
   "cell_type": "code",
   "execution_count": null,
   "id": "aab1ff32",
   "metadata": {},
   "outputs": [],
   "source": [
    "# Correlation Heatmap\n",
    "plt.figure(figsize=(12,6))\n",
    "sns.heatmap(data.corr(), cmap='BrBG', annot=True, fmt='.2f', linewidths=2)\n",
    "plt.title('Correlation Heatmap')\n",
    "plt.show()"
   ]
  },
  {
   "cell_type": "code",
   "execution_count": null,
   "id": "ba0430e0",
   "metadata": {},
   "outputs": [],
   "source": [
    "# Bar plots for categorical variables vs Loan Status\n",
    "categorical_cols = ['Gender', 'Married', 'Education', 'Self_Employed', 'Property_Area']\n",
    "plt.figure(figsize=(18, 36))\n",
    "for i, col in enumerate(categorical_cols, 1):\n",
    "    plt.subplot(5, 2, i)\n",
    "    sns.countplot(x=col, hue='Loan_Status', data=data)\n",
    "    plt.title(f'{col} vs Loan Status')\n",
    "    plt.tight_layout()\n",
    "plt.show()"
   ]
  },
  {
   "cell_type": "code",
   "execution_count": null,
   "id": "b638814f",
   "metadata": {},
   "outputs": [],
   "source": [
    "# Box plots for numerical variables by Loan Status\n",
    "numerical_cols = ['ApplicantIncome', 'CoapplicantIncome', 'LoanAmount']\n",
    "plt.figure(figsize=(18, 6))\n",
    "for i, col in enumerate(numerical_cols, 1):\n",
    "    plt.subplot(1, 3, i)\n",
    "    sns.boxplot(x='Loan_Status', y=col, data=data)\n",
    "    plt.title(f'{col} vs Loan Status')\n",
    "    plt.tight_layout()\n",
    "plt.show()"
   ]
  },
  {
   "cell_type": "code",
   "execution_count": null,
   "id": "0cc6e226",
   "metadata": {},
   "outputs": [],
   "source": [
    "# Pair plot of selected features with Loan Status hue\n",
    "sns.pairplot(data[['ApplicantIncome', 'CoapplicantIncome', 'LoanAmount', 'Loan_Amount_Term', 'Credit_History', 'Loan_Status']], hue='Loan_Status')\n",
    "plt.suptitle('Pair Plot of Features', y=1.02)\n",
    "plt.show()"
   ]
  },
  {
   "cell_type": "code",
   "execution_count": null,
   "id": "54ff4bdb",
   "metadata": {},
   "outputs": [],
   "source": [
    "# Pie chart of Loan Status distribution\n",
    "loan_status_counts = data['Loan_Status'].value_counts()\n",
    "plt.pie(loan_status_counts, labels=loan_status_counts.index, autopct='%1.1f%%', startangle=90)\n",
    "plt.title('Loan Status Distribution')\n",
    "plt.show()"
   ]
  },
  {
   "cell_type": "code",
   "execution_count": null,
   "id": "b87f1e00",
   "metadata": {},
   "outputs": [],
   "source": [
    "# Distribution plots for numerical variables\n",
    "plt.figure(figsize=(18, 6))\n",
    "for i, col in enumerate(numerical_cols, 1):\n",
    "    plt.subplot(1, 3, i)\n",
    "    sns.histplot(data[col], kde=True)\n",
    "    plt.title(f'{col} Distribution')\n",
    "    plt.tight_layout()\n",
    "plt.show()"
   ]
  },
  {
   "cell_type": "code",
   "execution_count": null,
   "id": "d8ef6dc2",
   "metadata": {},
   "outputs": [],
   "source": [
    "# Missing values visualization\n",
    "msno.matrix(data)\n",
    "plt.title('Missing Values Visualization')\n",
    "plt.show()"
   ]
  },
  {
   "cell_type": "code",
   "execution_count": null,
   "id": "26ce99a7",
   "metadata": {},
   "outputs": [],
   "source": [
    "# Prepare data for model training\n",
    "X = data.drop('Loan_Status', axis=1)\n",
    "y = data['Loan_Status']\n",
    "\n",
    "# Train-test split\n",
    "X_train, X_test, y_train, y_test = train_test_split(X, y, test_size=0.3, random_state=42)"
   ]
  },
  {
   "cell_type": "code",
   "execution_count": null,
   "id": "581b0427",
   "metadata": {},
   "outputs": [],
   "source": [
    "# Initialize and train model\n",
    "model = RandomForestClassifier(random_state=42)\n",
    "model.fit(X_train, y_train)\n",
    "\n",
    "# Feature Importance Plot\n",
    "plt.figure(figsize=(10, 6))\n",
    "sns.barplot(x=model.feature_importances_, y=X.columns)\n",
    "plt.title('Feature Importance')\n",
    "plt.show()"
   ]
  },
  {
   "cell_type": "code",
   "execution_count": null,
   "id": "461db1fe",
   "metadata": {},
   "outputs": [],
   "source": [
    "# Predict on test data\n",
    "y_pred = model.predict(X_test)\n",
    "\n",
    "# Calculate accuracy\n",
    "accuracy = accuracy_score(y_test, y_pred)\n",
    "print(f\"Model Accuracy: {accuracy * 100:.2f}%\")"
   ]
  }
 ],
 "metadata": {},
 "nbformat": 4,
 "nbformat_minor": 5
}
